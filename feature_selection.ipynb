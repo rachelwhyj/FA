{
 "cells": [
  {
   "cell_type": "markdown",
   "metadata": {},
   "source": [
    "## Import Packages & Data"
   ]
  },
  {
   "cell_type": "code",
   "execution_count": 1,
   "metadata": {},
   "outputs": [],
   "source": [
    "import warnings\n",
    "warnings.filterwarnings('ignore')\n",
    "\n",
    "import numpy as np\n",
    "import pandas as pd\n",
    "import matplotlib.pyplot as plt\n",
    "import seaborn as sns\n",
    "\n",
    "import scorecardpy as sc"
   ]
  },
  {
   "cell_type": "code",
   "execution_count": 20,
   "metadata": {},
   "outputs": [],
   "source": [
    "application = pd.read_csv('data/IS453 Group Assignment - Application Data.csv')\n",
    "bureau = pd.read_csv('data/IS453 Group Assignment - Bureau Data.csv')"
   ]
  },
  {
   "cell_type": "code",
   "execution_count": 3,
   "metadata": {},
   "outputs": [
    {
     "name": "stdout",
     "output_type": "stream",
     "text": [
      "(307511, 120)\n",
      "Index(['SK_ID_CURR', 'TARGET', 'NAME_CONTRACT_TYPE', 'CODE_GENDER',\n",
      "       'FLAG_OWN_CAR', 'FLAG_OWN_REALTY', 'CNT_CHILDREN', 'AMT_INCOME_TOTAL',\n",
      "       'AMT_CREDIT', 'AMT_ANNUITY',\n",
      "       ...\n",
      "       'FLAG_DOCUMENT_18', 'FLAG_DOCUMENT_19', 'FLAG_DOCUMENT_20',\n",
      "       'FLAG_DOCUMENT_21', 'AMT_REQ_CREDIT_BUREAU_HOUR',\n",
      "       'AMT_REQ_CREDIT_BUREAU_DAY', 'AMT_REQ_CREDIT_BUREAU_WEEK',\n",
      "       'AMT_REQ_CREDIT_BUREAU_MON', 'AMT_REQ_CREDIT_BUREAU_QRT',\n",
      "       'AMT_REQ_CREDIT_BUREAU_YEAR'],\n",
      "      dtype='object', length=120)\n",
      "(1716428, 17)\n",
      "Index(['SK_ID_CURR', 'SK_ID_BUREAU', 'CREDIT_ACTIVE', 'CREDIT_CURRENCY',\n",
      "       'DAYS_CREDIT', 'CREDIT_DAY_OVERDUE', 'DAYS_CREDIT_ENDDATE',\n",
      "       'DAYS_ENDDATE_FACT', 'AMT_CREDIT_MAX_OVERDUE', 'CNT_CREDIT_PROLONG',\n",
      "       'AMT_CREDIT_SUM', 'AMT_CREDIT_SUM_DEBT', 'AMT_CREDIT_SUM_LIMIT',\n",
      "       'AMT_CREDIT_SUM_OVERDUE', 'CREDIT_TYPE', 'DAYS_CREDIT_UPDATE',\n",
      "       'AMT_ANNUITY'],\n",
      "      dtype='object')\n"
     ]
    }
   ],
   "source": [
    "print(application.shape)\n",
    "print(application.columns)\n",
    "print(bureau.shape)\n",
    "print(bureau.columns)"
   ]
  },
  {
   "cell_type": "markdown",
   "metadata": {},
   "source": [
    "## Get datasets ready to merge"
   ]
  },
  {
   "cell_type": "code",
   "execution_count": 22,
   "metadata": {},
   "outputs": [
    {
     "name": "stdout",
     "output_type": "stream",
     "text": [
      "(202924, 117)\n",
      "(1715020, 16)\n"
     ]
    }
   ],
   "source": [
    "# filter for applicants that do not own a car\n",
    "application = application[application['FLAG_OWN_CAR'] == 'N']\n",
    "\n",
    "# filter bureau dataset for CREDIT_CURRENCY = currency 1\n",
    "bureau = bureau[bureau['CREDIT_CURRENCY'] == 'currency 1']\n",
    "\n",
    "# drop columns\n",
    "application = application.drop(columns=['FLAG_OWN_CAR', 'OWN_CAR_AGE', 'NAME_TYPE_SUITE'])\n",
    "bureau = bureau.drop(columns=['CREDIT_CURRENCY'])\n",
    "\n",
    "print(application.shape)\n",
    "print(bureau.shape)"
   ]
  },
  {
   "cell_type": "code",
   "execution_count": 5,
   "metadata": {},
   "outputs": [
    {
     "data": {
      "text/plain": [
       "CREDIT_TYPE\n",
       "Consumer credit                                 1250869\n",
       "Credit card                                      402071\n",
       "Car loan                                          27274\n",
       "Mortgage                                          18295\n",
       "Microloan                                         12413\n",
       "Loan for business development                      1954\n",
       "Another type of loan                               1014\n",
       "Unknown type of loan                                554\n",
       "Loan for working capital replenishment              469\n",
       "Cash loan (non-earmarked)                            56\n",
       "Real estate loan                                     26\n",
       "Loan for the purchase of equipment                   19\n",
       "Loan for purchase of shares (margin lending)          4\n",
       "Mobile operator loan                                  1\n",
       "Interbank credit                                      1\n",
       "Name: count, dtype: int64"
      ]
     },
     "execution_count": 5,
     "metadata": {},
     "output_type": "execute_result"
    }
   ],
   "source": [
    "bureau['CREDIT_TYPE'].value_counts()"
   ]
  },
  {
   "cell_type": "code",
   "execution_count": 23,
   "metadata": {},
   "outputs": [],
   "source": [
    "agg_bureau = bureau.copy()\n",
    "\n",
    "# precompute credit status counts\n",
    "agg_bureau['NUM_ACTIVE_CREDITS'] = (agg_bureau['CREDIT_ACTIVE'] == 'Active').astype(int)\n",
    "agg_bureau['NUM_CLOSED_CREDITS'] = (agg_bureau['CREDIT_ACTIVE'] == 'Closed').astype(int)\n",
    "agg_bureau['NUM_BADDEBT_CREDITS'] = (agg_bureau['CREDIT_ACTIVE'] == 'Bad debt').astype(int)\n",
    "\n",
    "# precompute top 5 most common credit type counts\n",
    "agg_bureau['NUM_CONSUMER_CREDIT_LOANS'] = (agg_bureau['CREDIT_TYPE'] == 'Consumer credit').astype(int)\n",
    "agg_bureau['NUM_CREDIT_CARD_LOANS'] = (agg_bureau['CREDIT_TYPE'] == 'Credit card').astype(int)\n",
    "agg_bureau['NUM_CAR_LOANS'] = (agg_bureau['CREDIT_TYPE'] == 'Car loan').astype(int)\n",
    "agg_bureau['NUM_MORTGAGE_LOANS'] = (agg_bureau['CREDIT_TYPE'] == 'Mortgage').astype(int)\n",
    "agg_bureau['NUM_MICRO_LOANS'] = (agg_bureau['CREDIT_TYPE'] == 'Microloan').astype(int)\n",
    "\n",
    "# DEBT_CREDIT_RATIO = AMT_CREDIT_SUM_DEBT / AMT_CREDIT_SUM\n",
    "agg_bureau['DEBT_CREDIT_RATIO'] = agg_bureau['AMT_CREDIT_SUM_DEBT'] / agg_bureau['AMT_CREDIT_SUM']"
   ]
  },
  {
   "cell_type": "code",
   "execution_count": 24,
   "metadata": {},
   "outputs": [],
   "source": [
    "# flatten bureau data\n",
    "agg_bureau = agg_bureau.groupby('SK_ID_CURR').agg(\n",
    "    NUM_PREV_LOANS = ('SK_ID_BUREAU', 'count'),\n",
    "    NUM_ACTIVE_CREDITS = ('NUM_ACTIVE_CREDITS', 'sum'),\n",
    "    NUM_CLOSED_CREDITS = ('NUM_CLOSED_CREDITS', 'sum'),\n",
    "    NUM_CONSUMER_CREDIT_LOANS = ('NUM_CONSUMER_CREDIT_LOANS', 'sum'),\n",
    "    NUM_CREDIT_CARD_LOANS = ('NUM_CREDIT_CARD_LOANS', 'sum'),\n",
    "    NUM_CAR_LOANS = ('NUM_CAR_LOANS', 'sum'),\n",
    "    NUM_MORTGAGE_LOANS = ('NUM_MORTGAGE_LOANS', 'sum'),\n",
    "    NUM_MICRO_LOANS = ('NUM_MICRO_LOANS', 'sum'),\n",
    "    DAYS_CREDIT_MIN = ('DAYS_CREDIT', 'min'), # capture the oldest credit application\n",
    "    DAYS_CREDIT_MAX = ('DAYS_CREDIT', 'max'), # find most recent credit application\n",
    "    DAYS_CREDIT_MEAN = ('DAYS_CREDIT', 'mean'), # avg days before current application, for prev credit lines\n",
    "    DAYS_CREDIT_OVERDUE_MAX = ('CREDIT_DAY_OVERDUE', 'max'),\n",
    "    DAYS_CREDIT_OVERDUE_MEAN = ('CREDIT_DAY_OVERDUE', 'mean'),\n",
    "    DAYS_CREDIT_ENDDATE_MEAN = ('DAYS_CREDIT_ENDDATE', 'mean'),\n",
    "    CNT_CREDIT_PROLONG_MAX = ('CNT_CREDIT_PROLONG', 'max'),\n",
    "    CNT_CREDIT_PROLONG_MEAN = ('CNT_CREDIT_PROLONG', 'mean'),\n",
    "    AMT_CREDIT_SUM_LIMIT_MEAN = ('AMT_CREDIT_SUM_LIMIT', 'mean'),\n",
    "    AMT_CREDIT_SUM_OVERDUE_SUM = ('AMT_CREDIT_SUM_OVERDUE', 'sum'),\n",
    "    AMT_CREDIT_SUM_OVERDUE_MAX = ('AMT_CREDIT_SUM_OVERDUE', 'max'),\n",
    "    DAYS_CREDIT_UPDATE_MEAN = ('DAYS_CREDIT_UPDATE', 'mean'),\n",
    "    DEBT_CREDIT_RATIO_MEAN = ('DEBT_CREDIT_RATIO', 'mean'),\n",
    "    AMT_ANNUITY_MEAN = ('AMT_ANNUITY', 'mean'),\n",
    ").reset_index()"
   ]
  },
  {
   "cell_type": "markdown",
   "metadata": {},
   "source": [
    "## Merge Datasets"
   ]
  },
  {
   "cell_type": "code",
   "execution_count": 25,
   "metadata": {},
   "outputs": [
    {
     "name": "stdout",
     "output_type": "stream",
     "text": [
      "(202924, 117)\n",
      "(1715020, 16)\n",
      "(305773, 23)\n"
     ]
    }
   ],
   "source": [
    "print(application.shape)\n",
    "print(bureau.shape)\n",
    "print(agg_bureau.shape)"
   ]
  },
  {
   "cell_type": "code",
   "execution_count": 26,
   "metadata": {},
   "outputs": [
    {
     "name": "stdout",
     "output_type": "stream",
     "text": [
      "(202924, 139)\n"
     ]
    }
   ],
   "source": [
    "merged = pd.merge(left=application, right=agg_bureau, on='SK_ID_CURR', how='left')\n",
    "print(merged.shape)"
   ]
  },
  {
   "cell_type": "markdown",
   "metadata": {},
   "source": [
    "## Calculate IVs for each x variable"
   ]
  },
  {
   "cell_type": "code",
   "execution_count": 48,
   "metadata": {},
   "outputs": [
    {
     "name": "stdout",
     "output_type": "stream",
     "text": [
      "['TARGET', 'NAME_CONTRACT_TYPE', 'CODE_GENDER', 'FLAG_OWN_REALTY', 'CNT_CHILDREN', 'AMT_INCOME_TOTAL', 'AMT_CREDIT', 'AMT_ANNUITY', 'AMT_GOODS_PRICE', 'NAME_INCOME_TYPE', 'NAME_EDUCATION_TYPE', 'NAME_FAMILY_STATUS', 'NAME_HOUSING_TYPE', 'REGION_POPULATION_RELATIVE', 'DAYS_BIRTH', 'DAYS_EMPLOYED', 'DAYS_REGISTRATION', 'DAYS_ID_PUBLISH', 'FLAG_MOBIL', 'FLAG_EMP_PHONE', 'FLAG_WORK_PHONE', 'FLAG_CONT_MOBILE', 'FLAG_PHONE', 'FLAG_EMAIL', 'OCCUPATION_TYPE', 'CNT_FAM_MEMBERS', 'REGION_RATING_CLIENT', 'REGION_RATING_CLIENT_W_CITY', 'WEEKDAY_APPR_PROCESS_START', 'HOUR_APPR_PROCESS_START', 'REG_REGION_NOT_LIVE_REGION', 'REG_REGION_NOT_WORK_REGION', 'LIVE_REGION_NOT_WORK_REGION', 'REG_CITY_NOT_LIVE_CITY', 'REG_CITY_NOT_WORK_CITY', 'LIVE_CITY_NOT_WORK_CITY', 'ORGANIZATION_TYPE', 'EXT_SOURCE_1', 'APARTMENTS_AVG', 'BASEMENTAREA_AVG', 'YEARS_BEGINEXPLUATATION_AVG', 'YEARS_BUILD_AVG', 'COMMONAREA_AVG', 'ELEVATORS_AVG', 'ENTRANCES_AVG', 'FLOORSMAX_AVG', 'FLOORSMIN_AVG', 'LANDAREA_AVG', 'LIVINGAPARTMENTS_AVG', 'LIVINGAREA_AVG', 'NONLIVINGAPARTMENTS_AVG', 'NONLIVINGAREA_AVG', 'APARTMENTS_MODE', 'BASEMENTAREA_MODE', 'YEARS_BEGINEXPLUATATION_MODE', 'YEARS_BUILD_MODE', 'COMMONAREA_MODE', 'ELEVATORS_MODE', 'ENTRANCES_MODE', 'FLOORSMAX_MODE', 'FLOORSMIN_MODE', 'LANDAREA_MODE', 'LIVINGAPARTMENTS_MODE', 'LIVINGAREA_MODE', 'NONLIVINGAPARTMENTS_MODE', 'NONLIVINGAREA_MODE', 'APARTMENTS_MEDI', 'BASEMENTAREA_MEDI', 'YEARS_BEGINEXPLUATATION_MEDI', 'YEARS_BUILD_MEDI', 'COMMONAREA_MEDI', 'ELEVATORS_MEDI', 'ENTRANCES_MEDI', 'FLOORSMAX_MEDI', 'FLOORSMIN_MEDI', 'LANDAREA_MEDI', 'LIVINGAPARTMENTS_MEDI', 'LIVINGAREA_MEDI', 'NONLIVINGAPARTMENTS_MEDI', 'NONLIVINGAREA_MEDI', 'FONDKAPREMONT_MODE', 'HOUSETYPE_MODE', 'TOTALAREA_MODE', 'WALLSMATERIAL_MODE', 'EMERGENCYSTATE_MODE', 'OBS_30_CNT_SOCIAL_CIRCLE', 'DEF_30_CNT_SOCIAL_CIRCLE', 'OBS_60_CNT_SOCIAL_CIRCLE', 'DEF_60_CNT_SOCIAL_CIRCLE', 'DAYS_LAST_PHONE_CHANGE', 'FLAG_DOCUMENT_2', 'FLAG_DOCUMENT_3', 'FLAG_DOCUMENT_4', 'FLAG_DOCUMENT_5', 'FLAG_DOCUMENT_6', 'FLAG_DOCUMENT_7', 'FLAG_DOCUMENT_8', 'FLAG_DOCUMENT_9', 'FLAG_DOCUMENT_10', 'FLAG_DOCUMENT_11', 'FLAG_DOCUMENT_12', 'FLAG_DOCUMENT_13', 'FLAG_DOCUMENT_14', 'FLAG_DOCUMENT_15', 'FLAG_DOCUMENT_16', 'FLAG_DOCUMENT_17', 'FLAG_DOCUMENT_18', 'FLAG_DOCUMENT_19', 'FLAG_DOCUMENT_20', 'FLAG_DOCUMENT_21', 'AMT_REQ_CREDIT_BUREAU_HOUR', 'AMT_REQ_CREDIT_BUREAU_DAY', 'AMT_REQ_CREDIT_BUREAU_WEEK', 'AMT_REQ_CREDIT_BUREAU_MON', 'AMT_REQ_CREDIT_BUREAU_QRT', 'AMT_REQ_CREDIT_BUREAU_YEAR', 'NUM_PREV_LOANS', 'NUM_ACTIVE_CREDITS', 'NUM_CLOSED_CREDITS', 'NUM_CONSUMER_CREDIT_LOANS', 'NUM_CREDIT_CARD_LOANS', 'NUM_CAR_LOANS', 'NUM_MORTGAGE_LOANS', 'NUM_MICRO_LOANS', 'DAYS_CREDIT_MIN', 'DAYS_CREDIT_MAX', 'DAYS_CREDIT_MEAN', 'DAYS_CREDIT_OVERDUE_MAX', 'DAYS_CREDIT_OVERDUE_MEAN', 'DAYS_CREDIT_ENDDATE_MEAN', 'CNT_CREDIT_PROLONG_MAX', 'CNT_CREDIT_PROLONG_MEAN', 'AMT_CREDIT_SUM_LIMIT_MEAN', 'AMT_CREDIT_SUM_OVERDUE_SUM', 'AMT_CREDIT_SUM_OVERDUE_MAX', 'DAYS_CREDIT_UPDATE_MEAN', 'DEBT_CREDIT_RATIO_MEAN', 'AMT_ANNUITY_MEAN']\n"
     ]
    }
   ],
   "source": [
    "# get target & independent variables\n",
    "cols = merged.columns.to_list()[1:]\n",
    "print(cols)\n",
    "\n",
    "merged_working = merged.copy()"
   ]
  },
  {
   "cell_type": "code",
   "execution_count": 49,
   "metadata": {},
   "outputs": [
    {
     "name": "stdout",
     "output_type": "stream",
     "text": [
      "ORGANIZATION_TYPE\n",
      "Business Entity        50934\n",
      "XNA                    45205\n",
      "Self-employed          23916\n",
      "Other                  10739\n",
      "Trade                   9680\n",
      "Industry                8752\n",
      "Medicine                8270\n",
      "Government              6849\n",
      "School                  6471\n",
      "Kindergarten            5404\n",
      "Transport               4300\n",
      "Construction            3445\n",
      "Security                1829\n",
      "Housing                 1817\n",
      "Postal                  1684\n",
      "Bank                    1617\n",
      "Agriculture             1450\n",
      "Restaurant              1356\n",
      "Military                1322\n",
      "Police                  1211\n",
      "Services                1122\n",
      "Security Ministries     1109\n",
      "University               901\n",
      "Hotel                    696\n",
      "Electricity              568\n",
      "Insurance                368\n",
      "Telecom                  340\n",
      "Culture                  271\n",
      "Advertising              269\n",
      "Emergency                242\n",
      "Realtor                  211\n",
      "Cleaning                 195\n",
      "Mobile                   185\n",
      "Legal Services           145\n",
      "Religion                  51\n",
      "Name: count, dtype: int64\n"
     ]
    }
   ],
   "source": [
    "# unable to calculate WOE & IV for ORGANIZATION_TYPE as it has too many possible categories\n",
    "    # group some values together\n",
    "\n",
    "mapping = {\n",
    "    'Business Entity Type 1': 'Business Entity',\n",
    "    'Business Entity Type 2': 'Business Entity',\n",
    "    'Business Entity Type 3': 'Business Entity',\n",
    "    'Trade: type 7': 'Trade',\n",
    "    'Trade: type 3': 'Trade',\n",
    "    'Trade: type 2': 'Trade',\n",
    "    'Trade: type 6': 'Trade',\n",
    "    'Trade: type 1': 'Trade',\n",
    "    'Trade: type 4': 'Trade',\n",
    "    'Trade: type 5': 'Trade',\n",
    "    'Transport: type 1': 'Transport',\n",
    "    'Transport: type 2': 'Transport',\n",
    "    'Transport: type 3': 'Transport',\n",
    "    'Transport: type 4': 'Transport',\n",
    "    'Industry: type 3': 'Industry',\n",
    "    'Industry: type 11': 'Industry',\n",
    "    'Industry: type 9': 'Industry',\n",
    "    'Industry: type 7': 'Industry',\n",
    "    'Industry: type 1': 'Industry',\n",
    "    'Industry: type 4': 'Industry',\n",
    "    'Industry: type 5': 'Industry',\n",
    "    'Industry: type 6': 'Industry',\n",
    "    'Industry: type 2': 'Industry',\n",
    "    'Industry: type 10': 'Industry',\n",
    "    'Industry: type 12': 'Industry',\n",
    "    'Industry: type 13': 'Industry',\n",
    "    'Industry: type 8': 'Industry',\n",
    "}\n",
    "\n",
    "merged_working['ORGANIZATION_TYPE'] = merged_working['ORGANIZATION_TYPE'].replace(mapping)\n",
    "print(merged_working['ORGANIZATION_TYPE'].value_counts())"
   ]
  },
  {
   "cell_type": "code",
   "execution_count": null,
   "metadata": {},
   "outputs": [
    {
     "name": "stdout",
     "output_type": "stream",
     "text": [
      "[INFO] creating woe binning ...\n",
      ">>> There are 1 variables have too many unique non-numberic values, which might cause the binning process slow. Please double check the following variables: \n",
      "ORGANIZATION_TYPE\n",
      ">>> Continue the binning process?\n",
      "1: yes \n",
      "2: no\n"
     ]
    }
   ],
   "source": [
    "merged_working = merged_working.loc[:, cols]\n",
    "\n",
    "# automatically calculate bin ranges, WOE, and IV for the independent variables\n",
    "bins = sc.woebin(merged_working, y='TARGET')\n",
    "\n",
    "# scorecardpy calcualtes WoE as the opposite of the normal formula\n",
    "for variable, bindetails in bins.item1s():\n",
    "    bins[variable]['woe'] = bins[variable]['woe'] * -1\n",
    "\n",
    "# print bin details and IV\n",
    "for variable, bindetails in bins.items():\n",
    "    print(variable , \": \")\n",
    "    print('IV: ' + str(round(bindetails['total_iv'][0],4)))\n",
    "    display(bindetails)\n",
    "    print(\"--\"*50)"
   ]
  },
  {
   "cell_type": "code",
   "execution_count": null,
   "metadata": {},
   "outputs": [],
   "source": []
  }
 ],
 "metadata": {
  "kernelspec": {
   "display_name": "app_env",
   "language": "python",
   "name": "python3"
  },
  "language_info": {
   "codemirror_mode": {
    "name": "ipython",
    "version": 3
   },
   "file_extension": ".py",
   "mimetype": "text/x-python",
   "name": "python",
   "nbconvert_exporter": "python",
   "pygments_lexer": "ipython3",
   "version": "3.9.12"
  }
 },
 "nbformat": 4,
 "nbformat_minor": 2
}
