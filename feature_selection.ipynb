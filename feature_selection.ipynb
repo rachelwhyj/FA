{
 "cells": [
  {
   "cell_type": "markdown",
   "metadata": {},
   "source": [
    "## Import Packages & Data"
   ]
  },
  {
   "cell_type": "code",
   "execution_count": 1,
   "metadata": {},
   "outputs": [],
   "source": [
    "import warnings\n",
    "warnings.filterwarnings('ignore')\n",
    "\n",
    "import numpy as np\n",
    "import pandas as pd\n",
    "import matplotlib.pyplot as plt\n",
    "import seaborn as sns\n",
    "\n",
    "import scorecardpy as sc"
   ]
  },
  {
   "cell_type": "code",
   "execution_count": 2,
   "metadata": {},
   "outputs": [],
   "source": [
    "application = pd.read_csv('data/IS453 Group Assignment - Application Data.csv')\n",
    "bureau = pd.read_csv('data/IS453 Group Assignment - Bureau Data.csv')"
   ]
  },
  {
   "cell_type": "code",
   "execution_count": null,
   "metadata": {},
   "outputs": [],
   "source": [
    "print(application.shape)\n",
    "print(application.columns)\n",
    "print(bureau.shape)\n",
    "print(bureau.columns)"
   ]
  },
  {
   "cell_type": "markdown",
   "metadata": {},
   "source": [
    "## Get datasets ready to merge"
   ]
  },
  {
   "cell_type": "code",
   "execution_count": null,
   "metadata": {},
   "outputs": [],
   "source": [
    "# filter for applicants that do not own a car\n",
    "application = application[application['FLAG_OWN_CAR'] == 'N']\n",
    "\n",
    "# filter bureau dataset for CREDIT_CURRENCY = currency 1\n",
    "bureau = bureau[bureau['CREDIT_CURRENCY'] == 'currency 1']\n",
    "\n",
    "# drop columns\n",
    "application = application.drop(columns=['FLAG_OWN_CAR', 'OWN_CAR_AGE', 'NAME_TYPE_SUITE'])\n",
    "bureau = bureau.drop(columns=['CREDIT_CURRENCY'])\n",
    "\n",
    "print(application.shape)\n",
    "print(bureau.shape)"
   ]
  },
  {
   "cell_type": "code",
   "execution_count": null,
   "metadata": {},
   "outputs": [],
   "source": [
    "bureau['CREDIT_TYPE'].value_counts()"
   ]
  },
  {
   "cell_type": "code",
   "execution_count": 6,
   "metadata": {},
   "outputs": [],
   "source": [
    "agg_bureau = bureau.copy()\n",
    "\n",
    "# precompute credit status counts\n",
    "agg_bureau['NUM_ACTIVE_CREDITS'] = (agg_bureau['CREDIT_ACTIVE'] == 'Active').astype(int)\n",
    "agg_bureau['NUM_CLOSED_CREDITS'] = (agg_bureau['CREDIT_ACTIVE'] == 'Closed').astype(int)\n",
    "agg_bureau['NUM_BADDEBT_CREDITS'] = (agg_bureau['CREDIT_ACTIVE'] == 'Bad debt').astype(int)\n",
    "\n",
    "# precompute top 5 most common credit type counts\n",
    "agg_bureau['NUM_CONSUMER_CREDIT_LOANS'] = (agg_bureau['CREDIT_TYPE'] == 'Consumer credit').astype(int)\n",
    "agg_bureau['NUM_CREDIT_CARD_LOANS'] = (agg_bureau['CREDIT_TYPE'] == 'Credit card').astype(int)\n",
    "agg_bureau['NUM_CAR_LOANS'] = (agg_bureau['CREDIT_TYPE'] == 'Car loan').astype(int)\n",
    "agg_bureau['NUM_MORTGAGE_LOANS'] = (agg_bureau['CREDIT_TYPE'] == 'Mortgage').astype(int)\n",
    "agg_bureau['NUM_MICRO_LOANS'] = (agg_bureau['CREDIT_TYPE'] == 'Microloan').astype(int)\n",
    "\n",
    "# DEBT_CREDIT_RATIO = AMT_CREDIT_SUM_DEBT / AMT_CREDIT_SUM\n",
    "agg_bureau['DEBT_CREDIT_RATIO'] = agg_bureau['AMT_CREDIT_SUM_DEBT'] / agg_bureau['AMT_CREDIT_SUM']"
   ]
  },
  {
   "cell_type": "code",
   "execution_count": 7,
   "metadata": {},
   "outputs": [],
   "source": [
    "# flatten bureau data\n",
    "agg_bureau = agg_bureau.groupby('SK_ID_CURR').agg(\n",
    "    NUM_PREV_LOANS = ('SK_ID_BUREAU', 'count'),\n",
    "    NUM_ACTIVE_CREDITS = ('NUM_ACTIVE_CREDITS', 'sum'),\n",
    "    NUM_CLOSED_CREDITS = ('NUM_CLOSED_CREDITS', 'sum'),\n",
    "    NUM_CONSUMER_CREDIT_LOANS = ('NUM_CONSUMER_CREDIT_LOANS', 'sum'),\n",
    "    NUM_CREDIT_CARD_LOANS = ('NUM_CREDIT_CARD_LOANS', 'sum'),\n",
    "    NUM_CAR_LOANS = ('NUM_CAR_LOANS', 'sum'),\n",
    "    NUM_MORTGAGE_LOANS = ('NUM_MORTGAGE_LOANS', 'sum'),\n",
    "    NUM_MICRO_LOANS = ('NUM_MICRO_LOANS', 'sum'),\n",
    "    DAYS_CREDIT_MIN = ('DAYS_CREDIT', 'min'), # capture the oldest credit application\n",
    "    DAYS_CREDIT_MAX = ('DAYS_CREDIT', 'max'), # find most recent credit application\n",
    "    DAYS_CREDIT_MEAN = ('DAYS_CREDIT', 'mean'), # avg days before current application, for prev credit lines\n",
    "    DAYS_CREDIT_OVERDUE_MAX = ('CREDIT_DAY_OVERDUE', 'max'),\n",
    "    DAYS_CREDIT_OVERDUE_MEAN = ('CREDIT_DAY_OVERDUE', 'mean'),\n",
    "    DAYS_CREDIT_ENDDATE_MEAN = ('DAYS_CREDIT_ENDDATE', 'mean'),\n",
    "    CNT_CREDIT_PROLONG_MAX = ('CNT_CREDIT_PROLONG', 'max'),\n",
    "    CNT_CREDIT_PROLONG_MEAN = ('CNT_CREDIT_PROLONG', 'mean'),\n",
    "    AMT_CREDIT_SUM_LIMIT_MEAN = ('AMT_CREDIT_SUM_LIMIT', 'mean'),\n",
    "    AMT_CREDIT_SUM_OVERDUE_SUM = ('AMT_CREDIT_SUM_OVERDUE', 'sum'),\n",
    "    AMT_CREDIT_SUM_OVERDUE_MAX = ('AMT_CREDIT_SUM_OVERDUE', 'max'),\n",
    "    DAYS_CREDIT_UPDATE_MEAN = ('DAYS_CREDIT_UPDATE', 'mean'),\n",
    "    DEBT_CREDIT_RATIO_MEAN = ('DEBT_CREDIT_RATIO', 'mean'),\n",
    "    AMT_ANNUITY_MEAN = ('AMT_ANNUITY', 'mean'),\n",
    ").reset_index()"
   ]
  },
  {
   "cell_type": "markdown",
   "metadata": {},
   "source": [
    "## Merge Datasets"
   ]
  },
  {
   "cell_type": "code",
   "execution_count": null,
   "metadata": {},
   "outputs": [],
   "source": [
    "print(application.shape)\n",
    "print(bureau.shape)\n",
    "print(agg_bureau.shape)"
   ]
  },
  {
   "cell_type": "code",
   "execution_count": null,
   "metadata": {},
   "outputs": [],
   "source": [
    "merged = pd.merge(left=application, right=agg_bureau, on='SK_ID_CURR', how='left')\n",
    "print(merged.shape)"
   ]
  },
  {
   "cell_type": "markdown",
   "metadata": {},
   "source": [
    "## Calculate IVs for each x variable"
   ]
  },
  {
   "cell_type": "code",
   "execution_count": null,
   "metadata": {},
   "outputs": [],
   "source": [
    "# get target & independent variables\n",
    "cols = merged.columns.to_list()[1:]\n",
    "print(cols)\n",
    "\n",
    "merged_working = merged.copy()"
   ]
  },
  {
   "cell_type": "code",
   "execution_count": null,
   "metadata": {},
   "outputs": [],
   "source": [
    "# unable to calculate WOE & IV for ORGANIZATION_TYPE as it is because it has too many possible categories\n",
    "    # group some values together\n",
    "\n",
    "mapping = {\n",
    "    'Business Entity Type 1': 'Business Entity',\n",
    "    'Business Entity Type 2': 'Business Entity',\n",
    "    'Business Entity Type 3': 'Business Entity',\n",
    "    'Trade: type 7': 'Trade',\n",
    "    'Trade: type 3': 'Trade',\n",
    "    'Trade: type 2': 'Trade',\n",
    "    'Trade: type 6': 'Trade',\n",
    "    'Trade: type 1': 'Trade',\n",
    "    'Trade: type 4': 'Trade',\n",
    "    'Trade: type 5': 'Trade',\n",
    "    'Transport: type 1': 'Transport',\n",
    "    'Transport: type 2': 'Transport',\n",
    "    'Transport: type 3': 'Transport',\n",
    "    'Transport: type 4': 'Transport',\n",
    "    'Industry: type 3': 'Industry',\n",
    "    'Industry: type 11': 'Industry',\n",
    "    'Industry: type 9': 'Industry',\n",
    "    'Industry: type 7': 'Industry',\n",
    "    'Industry: type 1': 'Industry',\n",
    "    'Industry: type 4': 'Industry',\n",
    "    'Industry: type 5': 'Industry',\n",
    "    'Industry: type 6': 'Industry',\n",
    "    'Industry: type 2': 'Industry',\n",
    "    'Industry: type 10': 'Industry',\n",
    "    'Industry: type 12': 'Industry',\n",
    "    'Industry: type 13': 'Industry',\n",
    "    'Industry: type 8': 'Industry',\n",
    "    'Government': 'Public Sector',\n",
    "    'Transport': 'Public Sector',\n",
    "    'Military': 'Public Sector',\n",
    "    'Police': 'Public Sector',\n",
    "    'Hotel': 'Hospitality',\n",
    "    'Restaurant': 'Hospitality',\n",
    "    'Bank': 'Financial Services',\n",
    "    'Insurance': 'Financial Services',\n",
    "}\n",
    "\n",
    "merged_working['ORGANIZATION_TYPE'] = merged_working['ORGANIZATION_TYPE'].replace(mapping)\n",
    "print(merged_working['ORGANIZATION_TYPE'].value_counts())"
   ]
  },
  {
   "cell_type": "code",
   "execution_count": null,
   "metadata": {},
   "outputs": [],
   "source": [
    "merged_working = merged_working.loc[:, cols]\n",
    "\n",
    "# automatically calculate bin ranges, WOE, and IV for the independent variables\n",
    "bins = sc.woebin(merged_working, y='TARGET')\n",
    "\n",
    "# scorecardpy calcualtes WoE as the opposite of the normal formula\n",
    "for variable, bindetails in bins.items():\n",
    "    bins[variable]['woe'] = bins[variable]['woe'] * -1\n",
    "\n",
    "# print bin details and IV\n",
    "for variable, bindetails in bins.items():\n",
    "    print(variable , \": \")\n",
    "    print('IV: ' + str(round(bindetails['total_iv'][0],4)))\n",
    "    display(bindetails)\n",
    "    print(\"--\"*50)"
   ]
  },
  {
   "cell_type": "markdown",
   "metadata": {},
   "source": [
    "#### Add variable as key and IV as value to a dictionary and sort them. "
   ]
  },
  {
   "cell_type": "code",
   "execution_count": null,
   "metadata": {},
   "outputs": [],
   "source": [
    "warnings.filterwarnings('ignore', category=FutureWarning)\n",
    "\n",
    "merged_working = merged_working.loc[:, cols]\n",
    "\n",
    "# Automatically calculate bin ranges, WOE, and IV for the independent variables\n",
    "bins = sc.woebin(merged_working, y='TARGET')\n",
    "\n",
    "# Create a dictionary to store the IVs for each variable\n",
    "iv_dict = {}\n",
    "\n",
    "# Reverse WoE and store IV values in the dictionary\n",
    "for variable, bindetails in bins.items():\n",
    "    bins[variable]['woe'] = bins[variable]['woe'] * -1\n",
    "    iv_value = bindetails['total_iv'][0]\n",
    "    iv_dict[variable] = iv_value\n",
    "\n",
    "# Sort the dictionary by IV values in descending order\n",
    "iv_dict_sorted = dict(sorted(iv_dict.items(), key=lambda item: item[1], reverse=True))"
   ]
  },
  {
   "cell_type": "code",
   "execution_count": null,
   "metadata": {},
   "outputs": [],
   "source": [
    "# Print sorted IV values\n",
    "for variable, iv in iv_dict_sorted.items():\n",
    "    print(f\"{variable}: IV = {iv:.4f}\")"
   ]
  }
 ],
 "metadata": {
  "kernelspec": {
   "display_name": "is217_env",
   "language": "python",
   "name": "python3"
  },
  "language_info": {
   "codemirror_mode": {
    "name": "ipython",
    "version": 3
   },
   "file_extension": ".py",
   "mimetype": "text/x-python",
   "name": "python",
   "nbconvert_exporter": "python",
   "pygments_lexer": "ipython3",
   "version": "3.11.5"
  }
 },
 "nbformat": 4,
 "nbformat_minor": 2
}
